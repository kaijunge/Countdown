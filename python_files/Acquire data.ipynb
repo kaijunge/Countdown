{
 "cells": [
  {
   "cell_type": "code",
   "execution_count": 141,
   "metadata": {},
   "outputs": [],
   "source": [
    "import numpy as np\n",
    "import pandas as pd\n",
    "import math\n",
    "import json"
   ]
  },
  {
   "cell_type": "code",
   "execution_count": 114,
   "metadata": {},
   "outputs": [],
   "source": [
    "def find_ch(str, ch):\n",
    "    for i, ltr in enumerate(str):\n",
    "        if ltr == ch:\n",
    "            return i"
   ]
  },
  {
   "cell_type": "code",
   "execution_count": 115,
   "metadata": {},
   "outputs": [],
   "source": [
    "ref = pd.read_csv('subject_code_to_name.csv')"
   ]
  },
  {
   "cell_type": "code",
   "execution_count": 116,
   "metadata": {},
   "outputs": [],
   "source": [
    "sorted_data = {'A': {}, 'B': {}, 'C': {}, 'D': {}, 'E': {}, 'F': {}, 'G': {}, 'Other': {}}\n",
    "keys = []"
   ]
  },
  {
   "cell_type": "code",
   "execution_count": 117,
   "metadata": {},
   "outputs": [],
   "source": [
    "# sorts all the data into a suitable data structure\n",
    "for i, code in enumerate(ref['code']):\n",
    "    subject_group = code[1]\n",
    "    if code[1] == 'M' or code[0] == '4':\n",
    "        subject_group = 'Other'\n",
    "    \n",
    "    if code[0] == 'E':\n",
    "        subject_group = 'E'\n",
    "        code = '3' + code\n",
    "    \n",
    "    keys.append(code)\n",
    "\n",
    "    sorted_data[subject_group][code] = [ref['Name'][i]]"
   ]
  },
  {
   "cell_type": "code",
   "execution_count": 118,
   "metadata": {},
   "outputs": [
    {
     "name": "stdout",
     "output_type": "stream",
     "text": [
      "              Date        Time  Room  Code\n",
      "0    Mon 20 Apr am  9.30-11.10   LT1   4F8\n",
      "1              NaN         NaN   NaN   3G5\n",
      "2              NaN  9.30-11.10   LT2   3B5\n",
      "3              NaN         NaN   NaN  4A12\n",
      "4              NaN  9.30-12.40   LR3   3A1\n",
      "..             ...         ...   ...   ...\n",
      "125            NaN         NaN   LT2   3G1\n",
      "126            NaN         NaN   NaN   4C4\n",
      "127            NaN         NaN   LR3   3A5\n",
      "128            NaN         NaN  LR3B  4B19\n",
      "129            NaN         NaN   NaN  4F12\n",
      "\n",
      "[130 rows x 4 columns]\n"
     ]
    }
   ],
   "source": [
    "timetable = pd.read_csv('timetable.csv')\n",
    "print(timetable)"
   ]
  },
  {
   "cell_type": "code",
   "execution_count": 119,
   "metadata": {},
   "outputs": [
    {
     "name": "stdout",
     "output_type": "stream",
     "text": [
      "{'A': {'3A1': ['Fluid Mechanics I', 'Apr 20,  2020 9:30:00'], '3A3': ['Fluid Mechanics II', 'Apr 29,  2020 9:30:00'], '3A5': ['Thermodynamics and Power Generation', 'May 1,  2020 14:00:00'], '3A6': ['Heat and Mass Transfer', 'Apr 24,  2020 9:30:00']}, 'B': {'3B1': ['Radio Frequency Electronics', 'Apr 23,  2020 14:00:00'], '3B2': ['Integrated Digital Electronics', 'Apr 24,  2020 9:30:00'], '3B3': ['Switch-Mode Electronics', 'Apr 28,  2020 14:00:00'], '3B4': ['Electric Drive Systems', 'Apr 20,  2020 14:00:00'], '3B5': ['Semiconductor Engineering', 'Apr 20,  2020 9:30:00'], '3B6': ['Photonic Technology', 'Apr 27,  2020 9:30:00']}, 'C': {'3C1': ['Materials Processing and Design (Engineering)', 'Apr 23,  2020 9:30:00'], '3C5': ['Dynamics', 'Apr 21,  2020 14:00:00'], '3C6': ['Vibration', 'Apr 28,  2020 9:30:00'], '3C7': ['Mechanics of Solids', 'Apr 21,  2020 9:30:00'], '3C8': ['Machine Design', 'Apr 23,  2020 14:00:00'], '3C9': ['Fracture Mechanics of Materials and Structures', 'Apr 29,  2020 14:00:00']}, 'D': {'3D1': ['Geotechnical Engineering I', 'Apr 29,  2020 9:30:00'], '3D2': ['Geotechnical Engineering II', 'Apr 27,  2020 14:00:00'], '3D3': ['Structural Materials and Design', 'Apr 28,  2020 14:00:00'], '3D4': ['Structural Analysis and Stability', 'Apr 20,  2020 14:00:00'], '3D5': ['Water Engineering', 'May 1,  2020 9:30:00'], '3D7': ['Finite Element Methods', 'Apr 22,  2020 14:00:00'], '3D8': ['Building Physics and Environmental Geotechnics', 'Apr 23,  2020 14:00:00']}, 'E': {'3E1': ['Business Economics', 'Apr 30,  2020 9:30:00'], '3E2': ['Marketing', 'Apr 30,  2020 9:30:00'], '3E3': ['Modelling Risk', 'Apr 30,  2020 14:00:00'], '3E6': ['Organisational Behaviour', 'Apr 30,  2020 14:00:00'], '3E10': ['Operations Management for Engineers', 'Apr 30,  2020 14:00:00'], '3E11': ['Environmental Sustainability & Business', 'Apr 30,  2020 9:30:00']}, 'F': {'3F1': ['Signals and Systems', 'Apr 21,  2020 9:30:00'], '3F2': ['Systems and Control', 'Apr 29,  2020 14:00:00'], '3F3': ['Statistical Signal Processing', 'Apr 29,  2020 9:30:00'], '3F4': ['Data Transmission', 'Apr 28,  2020 9:30:00'], '3F7': ['Information Theory and Coding', 'Apr 23,  2020 9:30:00'], '3F8': ['Inference', 'Apr 22,  2020 14:00:00']}, 'G': {'3G1': ['Introduction to Molecular Bioengineering', 'May 1,  2020 14:00:00'], '3G2': ['Mathematical Physiology', 'Apr 24,  2020 9:30:00'], '3G3': ['Introduction to Neuroscience', 'Apr 20,  2020 14:00:00'], '3G4': ['Medical Imaging and 3-D Computer Graphics', 'Apr 27,  2020 14:00:00'], '3G5': ['Biomaterials', 'Apr 20,  2020 9:30:00']}, 'Other': {'3M1': ['Mathematical Methods', 'Apr 22,  2020 9:30:00'], '4C4': ['Design Methods', 'May 1,  2020 14:00:00'], '4M12': ['Partial Differential Equations and Variational Methods', 'Apr 24,  2020 14:00:00'], '4M16': ['Nuclear Power Engineering', 'Apr 24,  2020 14:00:00']}}\n"
     ]
    }
   ],
   "source": [
    "for i, code in enumerate(timetable['Code']):\n",
    "    testcode = code\n",
    "    try: \n",
    "        if code[0] == 'E':\n",
    "            testcode = '3' + str(testcode)\n",
    "    except:\n",
    "        pass\n",
    "        \n",
    "        \n",
    "    # correct 3rd year subject\n",
    "    if testcode in keys:\n",
    "        datetime = ''\n",
    "        \n",
    "        for j in range(1000):\n",
    "            if type(timetable['Date'][i-j]) == str:\n",
    "                # now we have correct time / date info\n",
    "                # just need to format it into the correct string config for js\n",
    "                start_time = ['9:30:00', '14:00:00']\n",
    "                raw = timetable['Date'][i-j]\n",
    "                space = []\n",
    "                \n",
    "                for i, char in enumerate(raw):\n",
    "                    if char == ' ':\n",
    "                        space.append(i)\n",
    "                        \n",
    "                month = raw[space[1]+1:space[2]]\n",
    "                day = raw[space[0]+1:space[1]]\n",
    "                \n",
    "                if month == \"April\":\n",
    "                    month = \"Apr\"\n",
    "                    \n",
    "                datetime = datetime + month + ' ' + day + ',  2020 '\n",
    "                if raw[space[2]+1:] == 'am':\n",
    "                    datetime = datetime + start_time[0]\n",
    "                else: \n",
    "                    datetime = datetime + start_time[1]\n",
    "                \n",
    "                break\n",
    "                \n",
    "        subject_group = testcode[1]\n",
    "        if subject_group == 'M' or testcode[0] == '4':\n",
    "            subject_group = 'Other'\n",
    "            \n",
    "        if len(sorted_data[subject_group][testcode]) == 1:\n",
    "            sorted_data[subject_group][testcode].append(datetime)\n",
    "        \n",
    "print(sorted_data)\n",
    "                \n",
    "#format I want in the end: \"Jun 3,  2020 9:00:00\"\n",
    "#we get                  : :Mon 20 Apr am:"
   ]
  },
  {
   "cell_type": "code",
   "execution_count": 143,
   "metadata": {},
   "outputs": [],
   "source": [
    "# save as json files for each subject group\n",
    "file = open(\"../templates/data/dates.js\",\"w+\")\n",
    "for key in sorted_data.keys():\n",
    "    data = \"var \" + key + \"_raw ='\" + json.dumps(sorted_data[key]) + \"';\" + \"\\n\"\n",
    "    file.write(data)    \n",
    "    parsedata = \"var \" + key + \" = JSON.parse(\" + key + \"_raw);\\n\\n\"\n",
    "    file.write(parsedata)\n",
    "file.close()"
   ]
  },
  {
   "cell_type": "code",
   "execution_count": 147,
   "metadata": {},
   "outputs": [],
   "source": [
    "with open('alldata.json', 'w') as outfile:\n",
    "    json.dump(sorted_data, outfile)"
   ]
  }
 ],
 "metadata": {
  "kernelspec": {
   "display_name": "Python 3",
   "language": "python",
   "name": "python3"
  },
  "language_info": {
   "codemirror_mode": {
    "name": "ipython",
    "version": 3
   },
   "file_extension": ".py",
   "mimetype": "text/x-python",
   "name": "python",
   "nbconvert_exporter": "python",
   "pygments_lexer": "ipython3",
   "version": "3.7.4"
  }
 },
 "nbformat": 4,
 "nbformat_minor": 2
}
