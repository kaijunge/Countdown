{
 "cells": [
  {
   "cell_type": "code",
   "execution_count": 1,
   "metadata": {},
   "outputs": [],
   "source": [
    "import numpy as np\n",
    "import pandas as pd\n",
    "import math\n",
    "import json"
   ]
  },
  {
   "cell_type": "code",
   "execution_count": 4,
   "metadata": {},
   "outputs": [],
   "source": [
    "def find_ch(str, ch):\n",
    "    for i, ltr in enumerate(str):\n",
    "        if ltr == ch:\n",
    "            return i"
   ]
  },
  {
   "cell_type": "code",
   "execution_count": 12,
   "metadata": {},
   "outputs": [
    {
     "output_type": "execute_result",
     "data": {
      "text/plain": [
       "    Code                                           Name  Unnamed: 2  \\\n",
       "0    4A2                   Computational Fluid Dynamics         NaN   \n",
       "1    4A3                               Turbomachinery I         NaN   \n",
       "2    4A4                 Aircraft Stability and Control         NaN   \n",
       "3    4A7               Aircraft Aerodynamics and Design         NaN   \n",
       "4    4A9                       Molecular Thermodynamics         NaN   \n",
       "..   ...                                            ...         ...   \n",
       "65  4M20                                       Robotics         NaN   \n",
       "66  4M21                Software Engineering and Design         NaN   \n",
       "67  4M22                      Climate Change Mitigation         NaN   \n",
       "68  4M23            Electricity and Environment (TPE22)         NaN   \n",
       "69  4M24  Computational Statistics and Machine Learning         NaN   \n",
       "\n",
       "    Unnamed: 3  Unnamed: 4  \n",
       "0          NaN         NaN  \n",
       "1          NaN         NaN  \n",
       "2          NaN         NaN  \n",
       "3          NaN         NaN  \n",
       "4          NaN         NaN  \n",
       "..         ...         ...  \n",
       "65         NaN         NaN  \n",
       "66         NaN         NaN  \n",
       "67         NaN         NaN  \n",
       "68         NaN         NaN  \n",
       "69         NaN         NaN  \n",
       "\n",
       "[70 rows x 5 columns]"
      ],
      "text/html": "<div>\n<style scoped>\n    .dataframe tbody tr th:only-of-type {\n        vertical-align: middle;\n    }\n\n    .dataframe tbody tr th {\n        vertical-align: top;\n    }\n\n    .dataframe thead th {\n        text-align: right;\n    }\n</style>\n<table border=\"1\" class=\"dataframe\">\n  <thead>\n    <tr style=\"text-align: right;\">\n      <th></th>\n      <th>Code</th>\n      <th>Name</th>\n      <th>Unnamed: 2</th>\n      <th>Unnamed: 3</th>\n      <th>Unnamed: 4</th>\n    </tr>\n  </thead>\n  <tbody>\n    <tr>\n      <td>0</td>\n      <td>4A2</td>\n      <td>Computational Fluid Dynamics</td>\n      <td>NaN</td>\n      <td>NaN</td>\n      <td>NaN</td>\n    </tr>\n    <tr>\n      <td>1</td>\n      <td>4A3</td>\n      <td>Turbomachinery I</td>\n      <td>NaN</td>\n      <td>NaN</td>\n      <td>NaN</td>\n    </tr>\n    <tr>\n      <td>2</td>\n      <td>4A4</td>\n      <td>Aircraft Stability and Control</td>\n      <td>NaN</td>\n      <td>NaN</td>\n      <td>NaN</td>\n    </tr>\n    <tr>\n      <td>3</td>\n      <td>4A7</td>\n      <td>Aircraft Aerodynamics and Design</td>\n      <td>NaN</td>\n      <td>NaN</td>\n      <td>NaN</td>\n    </tr>\n    <tr>\n      <td>4</td>\n      <td>4A9</td>\n      <td>Molecular Thermodynamics</td>\n      <td>NaN</td>\n      <td>NaN</td>\n      <td>NaN</td>\n    </tr>\n    <tr>\n      <td>...</td>\n      <td>...</td>\n      <td>...</td>\n      <td>...</td>\n      <td>...</td>\n      <td>...</td>\n    </tr>\n    <tr>\n      <td>65</td>\n      <td>4M20</td>\n      <td>Robotics</td>\n      <td>NaN</td>\n      <td>NaN</td>\n      <td>NaN</td>\n    </tr>\n    <tr>\n      <td>66</td>\n      <td>4M21</td>\n      <td>Software Engineering and Design</td>\n      <td>NaN</td>\n      <td>NaN</td>\n      <td>NaN</td>\n    </tr>\n    <tr>\n      <td>67</td>\n      <td>4M22</td>\n      <td>Climate Change Mitigation</td>\n      <td>NaN</td>\n      <td>NaN</td>\n      <td>NaN</td>\n    </tr>\n    <tr>\n      <td>68</td>\n      <td>4M23</td>\n      <td>Electricity and Environment (TPE22)</td>\n      <td>NaN</td>\n      <td>NaN</td>\n      <td>NaN</td>\n    </tr>\n    <tr>\n      <td>69</td>\n      <td>4M24</td>\n      <td>Computational Statistics and Machine Learning</td>\n      <td>NaN</td>\n      <td>NaN</td>\n      <td>NaN</td>\n    </tr>\n  </tbody>\n</table>\n<p>70 rows × 5 columns</p>\n</div>"
     },
     "metadata": {},
     "execution_count": 12
    }
   ],
   "source": [
    "ref = pd.read_csv('subject_code_to_name_IIB.csv')\n",
    "ref"
   ]
  },
  {
   "cell_type": "code",
   "execution_count": 106,
   "metadata": {},
   "outputs": [],
   "source": [
    "sorted_data = {'A': {}, 'B': {}, 'C': {}, 'D': {}, 'E': {}, 'F': {}, 'G': {}, 'I': {}, 'M': {}, 'Other': {}}\n",
    "keys = []"
   ]
  },
  {
   "cell_type": "code",
   "execution_count": 107,
   "metadata": {},
   "outputs": [],
   "source": [
    "# sorts all the data into a suitable data structure\n",
    "for i, code in enumerate(ref['Code']):\n",
    "    subject_group = code[1]\n",
    "    '''\n",
    "    if code[1] == 'M' or code[0] == '4':\n",
    "        subject_group = 'Other'\n",
    "    \n",
    "    if code[0] == 'E':\n",
    "        subject_group = 'E'\n",
    "        code = '3' + code\n",
    "    '''\n",
    "    keys.append(code)\n",
    "\n",
    "    sorted_data[subject_group][code] = [ref['Name'][i]]"
   ]
  },
  {
   "cell_type": "code",
   "execution_count": 108,
   "metadata": {},
   "outputs": [],
   "source": [
    "timetable = pd.read_csv('timetable_IIB.csv')"
   ]
  },
  {
   "cell_type": "code",
   "execution_count": 109,
   "metadata": {},
   "outputs": [
    {
     "output_type": "stream",
     "name": "stdout",
     "text": [
      "{'4A2': ['Computational Fluid Dynamics'], '4A3': ['Turbomachinery I', 'Apr 27,  2021 13:30:00'], '4A4': ['Aircraft Stability and Control'], '4A7': ['Aircraft Aerodynamics and Design'], '4A9': ['Molecular Thermodynamics', 'Apr 30,  2021 9:00:00'], '4A12': ['Turbulence and Vortex Dynamics', 'Apr 29,  2021 9:00:00'], '4A13': ['Combustion and Engines', 'May 7,  2021 9:00:00'], '4A15': ['Aeroacoustics', 'May 4,  2021 9:00:00']}\n{'4A3': ['Turbomachinery I', 'Apr 27,  2021 13:30:00'], '4A4': ['Aircraft Stability and Control'], '4A7': ['Aircraft Aerodynamics and Design'], '4A9': ['Molecular Thermodynamics', 'Apr 30,  2021 9:00:00'], '4A12': ['Turbulence and Vortex Dynamics', 'Apr 29,  2021 9:00:00'], '4A13': ['Combustion and Engines', 'May 7,  2021 9:00:00'], '4A15': ['Aeroacoustics', 'May 4,  2021 9:00:00']}\n{'4A3': ['Turbomachinery I', 'Apr 27,  2021 13:30:00'], '4A7': ['Aircraft Aerodynamics and Design'], '4A9': ['Molecular Thermodynamics', 'Apr 30,  2021 9:00:00'], '4A12': ['Turbulence and Vortex Dynamics', 'Apr 29,  2021 9:00:00'], '4A13': ['Combustion and Engines', 'May 7,  2021 9:00:00'], '4A15': ['Aeroacoustics', 'May 4,  2021 9:00:00']}\n{'4B2': ['Power Microelectronics', 'May 5,  2021 13:30:00'], '4B5': ['Quantum and Nano-technologies', 'Apr 29,  2021 9:00:00'], '4B11': ['Photonic Systems', 'Apr 28,  2021 13:30:00'], '4B13': ['Electronic Sensors and Instrumentation', 'Apr 30,  2021 13:30:00'], '4B19': ['Renewable Electrical Power', 'May 7,  2021 13:30:00'], '4B23': ['Optical Fibre Communication', 'May 4,  2021 13:30:00'], '4B24': ['Radio Frequency Systems', 'Apr 27,  2021 9:00:00'], '4B25': ['Embedded Systems for the Internet of Things']}\n{'4C2': ['Designing with Composites', 'May 3,  2021 9:00:00'], '4C3': ['Advanced Functional Materials and Devices', 'Apr 28,  2021 9:00:00'], '4C4': ['Design Methods', 'May 7,  2021 13:30:00'], '4C5': ['Design Case Studies'], '4C6': ['Advanced Linear Vibrations', 'Apr 27,  2021 13:30:00'], '4C7': ['Random and Non-Linear Vibrations', 'Apr 28,  2021 13:30:00'], '4C8': ['Vehicle Dynamics', 'Apr 29,  2021 13:30:00'], '4C9': ['Continuum Mechanics', 'May 3,  2021 13:30:00'], '4C15': ['MEMS: Design', 'Apr 26,  2021 9:00:00']}\n{'4D4': ['Construction Engineering'], '4D5': ['Foundation Engineering', 'Apr 28,  2021 9:00:00'], '4D6': ['Dynamics in Civil Engineering', 'May 4,  2021 13:30:00'], '4D7': ['Concrete and Prestressed Concrete', 'Apr 27,  2021 13:30:00'], '4D9': ['Offshore Geotechnical Engineering', 'May 7,  2021 9:00:00'], '4D10': ['Structural Steelwork', 'May 3,  2021 9:00:00'], '4D13': ['Architectural Engineering'], '4D14': ['Contaminated Land & Waste Containment', 'Apr 30,  2021 9:00:00'], '4D15': ['Management of Resilient Water Systems']}\n{'4D5': ['Foundation Engineering', 'Apr 28,  2021 9:00:00'], '4D6': ['Dynamics in Civil Engineering', 'May 4,  2021 13:30:00'], '4D7': ['Concrete and Prestressed Concrete', 'Apr 27,  2021 13:30:00'], '4D9': ['Offshore Geotechnical Engineering', 'May 7,  2021 9:00:00'], '4D10': ['Structural Steelwork', 'May 3,  2021 9:00:00'], '4D13': ['Architectural Engineering'], '4D14': ['Contaminated Land & Waste Containment', 'Apr 30,  2021 9:00:00'], '4D15': ['Management of Resilient Water Systems']}\n{'4D5': ['Foundation Engineering', 'Apr 28,  2021 9:00:00'], '4D6': ['Dynamics in Civil Engineering', 'May 4,  2021 13:30:00'], '4D7': ['Concrete and Prestressed Concrete', 'Apr 27,  2021 13:30:00'], '4D9': ['Offshore Geotechnical Engineering', 'May 7,  2021 9:00:00'], '4D10': ['Structural Steelwork', 'May 3,  2021 9:00:00'], '4D14': ['Contaminated Land & Waste Containment', 'Apr 30,  2021 9:00:00'], '4D15': ['Management of Resilient Water Systems']}\n{'4E1': ['Innovation and Strategic Management of Intellectual'], '4E3': ['Business Innovation in a Digital Age'], '4E4': ['Management of Technology'], '4E6': ['Accounting and Finance'], '4E11': ['Strategic Management'], '4E12': ['Project Management']}\n{'4E3': ['Business Innovation in a Digital Age'], '4E4': ['Management of Technology'], '4E6': ['Accounting and Finance'], '4E11': ['Strategic Management'], '4E12': ['Project Management']}\n{'4E4': ['Management of Technology'], '4E6': ['Accounting and Finance'], '4E11': ['Strategic Management'], '4E12': ['Project Management']}\n{'4E6': ['Accounting and Finance'], '4E11': ['Strategic Management'], '4E12': ['Project Management']}\n{'4E11': ['Strategic Management'], '4E12': ['Project Management']}\n{'4E12': ['Project Management']}\n{'4F1': ['Control System Design', 'Apr 28,  2021 13:30:00'], '4F2': ['Robust and Nonlinear Control'], '4F3': ['An Optimisation Based Approach to Control', 'May 4,  2021 9:00:00'], '4F5': ['Advanced Information Theory and Coding', 'May 6,  2021 9:00:00'], '4F7': ['Statistical Signal Analysis', 'Apr 27,  2021 13:30:00'], '4F8': ['Image Processing and Image Coding', 'Apr 26,  2021 9:00:00'], '4F10': ['Deep Learning and Structured data', 'May 5,  2021 13:30:00'], '4F12': ['Computer Vision', 'Apr 26,  2021 13:30:00'], '4F13': ['Probabilistic  Machine Learning'], '4F14': ['Computer Systems', 'May 7,  2021 9:00:00']}\n{'4F1': ['Control System Design', 'Apr 28,  2021 13:30:00'], '4F3': ['An Optimisation Based Approach to Control', 'May 4,  2021 9:00:00'], '4F5': ['Advanced Information Theory and Coding', 'May 6,  2021 9:00:00'], '4F7': ['Statistical Signal Analysis', 'Apr 27,  2021 13:30:00'], '4F8': ['Image Processing and Image Coding', 'Apr 26,  2021 9:00:00'], '4F10': ['Deep Learning and Structured data', 'May 5,  2021 13:30:00'], '4F12': ['Computer Vision', 'Apr 26,  2021 13:30:00'], '4F13': ['Probabilistic  Machine Learning'], '4F14': ['Computer Systems', 'May 7,  2021 9:00:00']}\n{'4G3': ['Computational Neuroscience'], '4G4': ['Biomimetics'], '4G5': ['Materials and Molecules: Modelling, Simulation and\\nMachine Learning']}\n{'4G4': ['Biomimetics'], '4G5': ['Materials and Molecules: Modelling, Simulation and\\nMachine Learning']}\n{'4G5': ['Materials and Molecules: Modelling, Simulation and\\nMachine Learning']}\n{'4I1': ['Strategic Valuation (TPE25)'], '4I8': ['Medical Physics', 'Apr 29,  2021 13:30:0014:00:00'], '4I10': ['Nuclear Reactor Engineering', 'Apr 28,  2021 13:30:00'], '4I11': ['Advanced Fission and Fusion Systems'], '4I14': ['Biosensors and Bioelectronics'], '4I15': ['Mobile Robot Systems']}\n{'4I8': ['Medical Physics', 'Apr 29,  2021 13:30:0014:00:00'], '4I10': ['Nuclear Reactor Engineering', 'Apr 28,  2021 13:30:00'], '4I11': ['Advanced Fission and Fusion Systems'], '4I14': ['Biosensors and Bioelectronics'], '4I15': ['Mobile Robot Systems']}\n{'4I8': ['Medical Physics', 'Apr 29,  2021 13:30:0014:00:00'], '4I10': ['Nuclear Reactor Engineering', 'Apr 28,  2021 13:30:00'], '4I14': ['Biosensors and Bioelectronics'], '4I15': ['Mobile Robot Systems']}\n{'4I8': ['Medical Physics', 'Apr 29,  2021 13:30:0014:00:00'], '4I10': ['Nuclear Reactor Engineering', 'Apr 28,  2021 13:30:00'], '4I15': ['Mobile Robot Systems']}\n{'4M1': ['French'], '4M2': ['German'], '4M3': ['Spanish'], '4M12': ['Partial Differential Equations & Variational Methods', 'Apr 30,  2021 13:30:00'], '4M16': ['Nuclear Power Engineering', 'Apr 30,  2021 13:30:00'], '4M17': ['Practical Optimization'], '4M20': ['Robotics'], '4M21': ['Software Engineering and Design', 'May 3,  2021 13:30:00'], '4M22': ['Climate Change Mitigation'], '4M23': ['Electricity and Environment (TPE22)'], '4M24': ['Computational Statistics and Machine Learning', 'May 7,  2021 13:30:00']}\n{'4M2': ['German'], '4M3': ['Spanish'], '4M12': ['Partial Differential Equations & Variational Methods', 'Apr 30,  2021 13:30:00'], '4M16': ['Nuclear Power Engineering', 'Apr 30,  2021 13:30:00'], '4M17': ['Practical Optimization'], '4M20': ['Robotics'], '4M21': ['Software Engineering and Design', 'May 3,  2021 13:30:00'], '4M22': ['Climate Change Mitigation'], '4M23': ['Electricity and Environment (TPE22)'], '4M24': ['Computational Statistics and Machine Learning', 'May 7,  2021 13:30:00']}\n{'4M3': ['Spanish'], '4M12': ['Partial Differential Equations & Variational Methods', 'Apr 30,  2021 13:30:00'], '4M16': ['Nuclear Power Engineering', 'Apr 30,  2021 13:30:00'], '4M17': ['Practical Optimization'], '4M20': ['Robotics'], '4M21': ['Software Engineering and Design', 'May 3,  2021 13:30:00'], '4M22': ['Climate Change Mitigation'], '4M23': ['Electricity and Environment (TPE22)'], '4M24': ['Computational Statistics and Machine Learning', 'May 7,  2021 13:30:00']}\n{'4M12': ['Partial Differential Equations & Variational Methods', 'Apr 30,  2021 13:30:00'], '4M16': ['Nuclear Power Engineering', 'Apr 30,  2021 13:30:00'], '4M17': ['Practical Optimization'], '4M20': ['Robotics'], '4M21': ['Software Engineering and Design', 'May 3,  2021 13:30:00'], '4M22': ['Climate Change Mitigation'], '4M23': ['Electricity and Environment (TPE22)'], '4M24': ['Computational Statistics and Machine Learning', 'May 7,  2021 13:30:00']}\n{'4M12': ['Partial Differential Equations & Variational Methods', 'Apr 30,  2021 13:30:00'], '4M16': ['Nuclear Power Engineering', 'Apr 30,  2021 13:30:00'], '4M20': ['Robotics'], '4M21': ['Software Engineering and Design', 'May 3,  2021 13:30:00'], '4M22': ['Climate Change Mitigation'], '4M23': ['Electricity and Environment (TPE22)'], '4M24': ['Computational Statistics and Machine Learning', 'May 7,  2021 13:30:00']}\n{'4M12': ['Partial Differential Equations & Variational Methods', 'Apr 30,  2021 13:30:00'], '4M16': ['Nuclear Power Engineering', 'Apr 30,  2021 13:30:00'], '4M21': ['Software Engineering and Design', 'May 3,  2021 13:30:00'], '4M22': ['Climate Change Mitigation'], '4M23': ['Electricity and Environment (TPE22)'], '4M24': ['Computational Statistics and Machine Learning', 'May 7,  2021 13:30:00']}\n{'4M12': ['Partial Differential Equations & Variational Methods', 'Apr 30,  2021 13:30:00'], '4M16': ['Nuclear Power Engineering', 'Apr 30,  2021 13:30:00'], '4M21': ['Software Engineering and Design', 'May 3,  2021 13:30:00'], '4M23': ['Electricity and Environment (TPE22)'], '4M24': ['Computational Statistics and Machine Learning', 'May 7,  2021 13:30:00']}\n"
     ]
    }
   ],
   "source": [
    "for i, code in enumerate(timetable['Code']):\n",
    "    testcode = code\n",
    "    '''\n",
    "    try: \n",
    "        if code[0] == 'E':\n",
    "            testcode = '3' + str(testcode)\n",
    "    except:\n",
    "        pass\n",
    "    '''    \n",
    "    \n",
    "    # correct 3rd year subject\n",
    "    if testcode in keys:\n",
    "        datetime = ''\n",
    "        \n",
    "        for j in range(1000):\n",
    "            if type(timetable['Date'][i-j]) == str:\n",
    "                # now we have correct time / date info\n",
    "                # just need to format it into the correct string config for js\n",
    "                start_time = ['9:00:00', '13:30:00', '14:00:00']\n",
    "                raw = timetable['Date'][i-j]\n",
    "                space = []\n",
    "                \n",
    "                for i, char in enumerate(raw):\n",
    "                    if char == ' ':\n",
    "                        space.append(i)\n",
    "                        \n",
    "                month = raw[space[1]+1:space[2]]\n",
    "                day = raw[space[0]+1:space[1]]\n",
    "                \n",
    "                if month == \"April\":\n",
    "                    month = \"Apr\"\n",
    "                    \n",
    "                datetime = datetime + month + ' ' + day + ',  2021 '\n",
    "                if raw[space[2]+1:] == 'am':\n",
    "                    datetime = datetime + start_time[0]\n",
    "                else: \n",
    "                    datetime = datetime + start_time[1]\n",
    "\n",
    "                # weird case for physics exam\n",
    "                if code == '4I8':\n",
    "                    datetime = datetime + start_time[2]\n",
    "                \n",
    "                break\n",
    "                \n",
    "        subject_group = testcode[1]\n",
    "        '''\n",
    "        if subject_group == 'M' or testcode[0] == '4':\n",
    "            subject_group = 'Other'\n",
    "        ''' \n",
    "\n",
    "        if len(sorted_data[subject_group][testcode]) == 1:\n",
    "            sorted_data[subject_group][testcode].append(datetime)\n",
    "        \n",
    "\n",
    "# now go through the sorted data and delete modules that are 100% CW\n",
    "#sorted_data_copy = sorted_data\n",
    "\n",
    "for item in list(sorted_data.keys()):\n",
    "    for module in list(sorted_data[item].keys()):\n",
    "        if len(sorted_data[item][module]) == 1:\n",
    "            #print(sorted_data[item])\n",
    "            #print(sorted_data_copy[item[0]])\n",
    "            del sorted_data[item][module]\n",
    "            \n",
    "#format I want in the end: \"Jun 3,  2020 9:00:00\"\n",
    "#we get                  : :Mon 20 Apr am:\n"
   ]
  },
  {
   "cell_type": "code",
   "execution_count": 110,
   "metadata": {},
   "outputs": [
    {
     "output_type": "execute_result",
     "data": {
      "text/plain": [
       "{'A': {'4A3': ['Turbomachinery I', 'Apr 27,  2021 13:30:00'],\n",
       "  '4A9': ['Molecular Thermodynamics', 'Apr 30,  2021 9:00:00'],\n",
       "  '4A12': ['Turbulence and Vortex Dynamics', 'Apr 29,  2021 9:00:00'],\n",
       "  '4A13': ['Combustion and Engines', 'May 7,  2021 9:00:00'],\n",
       "  '4A15': ['Aeroacoustics', 'May 4,  2021 9:00:00']},\n",
       " 'B': {'4B2': ['Power Microelectronics', 'May 5,  2021 13:30:00'],\n",
       "  '4B5': ['Quantum and Nano-technologies', 'Apr 29,  2021 9:00:00'],\n",
       "  '4B11': ['Photonic Systems', 'Apr 28,  2021 13:30:00'],\n",
       "  '4B13': ['Electronic Sensors and Instrumentation', 'Apr 30,  2021 13:30:00'],\n",
       "  '4B19': ['Renewable Electrical Power', 'May 7,  2021 13:30:00'],\n",
       "  '4B23': ['Optical Fibre Communication', 'May 4,  2021 13:30:00'],\n",
       "  '4B24': ['Radio Frequency Systems', 'Apr 27,  2021 9:00:00']},\n",
       " 'C': {'4C2': ['Designing with Composites', 'May 3,  2021 9:00:00'],\n",
       "  '4C3': ['Advanced Functional Materials and Devices',\n",
       "   'Apr 28,  2021 9:00:00'],\n",
       "  '4C4': ['Design Methods', 'May 7,  2021 13:30:00'],\n",
       "  '4C6': ['Advanced Linear Vibrations', 'Apr 27,  2021 13:30:00'],\n",
       "  '4C7': ['Random and Non-Linear Vibrations', 'Apr 28,  2021 13:30:00'],\n",
       "  '4C8': ['Vehicle Dynamics', 'Apr 29,  2021 13:30:00'],\n",
       "  '4C9': ['Continuum Mechanics', 'May 3,  2021 13:30:00'],\n",
       "  '4C15': ['MEMS: Design', 'Apr 26,  2021 9:00:00']},\n",
       " 'D': {'4D5': ['Foundation Engineering', 'Apr 28,  2021 9:00:00'],\n",
       "  '4D6': ['Dynamics in Civil Engineering', 'May 4,  2021 13:30:00'],\n",
       "  '4D7': ['Concrete and Prestressed Concrete', 'Apr 27,  2021 13:30:00'],\n",
       "  '4D9': ['Offshore Geotechnical Engineering', 'May 7,  2021 9:00:00'],\n",
       "  '4D10': ['Structural Steelwork', 'May 3,  2021 9:00:00'],\n",
       "  '4D14': ['Contaminated Land & Waste Containment', 'Apr 30,  2021 9:00:00']},\n",
       " 'E': {},\n",
       " 'F': {'4F1': ['Control System Design', 'Apr 28,  2021 13:30:00'],\n",
       "  '4F3': ['An Optimisation Based Approach to Control', 'May 4,  2021 9:00:00'],\n",
       "  '4F5': ['Advanced Information Theory and Coding', 'May 6,  2021 9:00:00'],\n",
       "  '4F7': ['Statistical Signal Analysis', 'Apr 27,  2021 13:30:00'],\n",
       "  '4F8': ['Image Processing and Image Coding', 'Apr 26,  2021 9:00:00'],\n",
       "  '4F10': ['Deep Learning and Structured data', 'May 5,  2021 13:30:00'],\n",
       "  '4F12': ['Computer Vision', 'Apr 26,  2021 13:30:00'],\n",
       "  '4F14': ['Computer Systems', 'May 7,  2021 9:00:00']},\n",
       " 'G': {},\n",
       " 'I': {'4I8': ['Medical Physics', 'Apr 29,  2021 13:30:0014:00:00'],\n",
       "  '4I10': ['Nuclear Reactor Engineering', 'Apr 28,  2021 13:30:00']},\n",
       " 'M': {'4M12': ['Partial Differential Equations & Variational Methods',\n",
       "   'Apr 30,  2021 13:30:00'],\n",
       "  '4M16': ['Nuclear Power Engineering', 'Apr 30,  2021 13:30:00'],\n",
       "  '4M21': ['Software Engineering and Design', 'May 3,  2021 13:30:00'],\n",
       "  '4M24': ['Computational Statistics and Machine Learning',\n",
       "   'May 7,  2021 13:30:00']},\n",
       " 'Other': {}}"
      ]
     },
     "metadata": {},
     "execution_count": 110
    }
   ],
   "source": [
    "sorted_data"
   ]
  },
  {
   "cell_type": "code",
   "execution_count": 111,
   "metadata": {},
   "outputs": [
    {
     "output_type": "error",
     "ename": "FileNotFoundError",
     "evalue": "[Errno 2] No such file or directory: '../templates/data/dates.js'",
     "traceback": [
      "\u001b[0;31m---------------------------------------------------------------------------\u001b[0m",
      "\u001b[0;31mFileNotFoundError\u001b[0m                         Traceback (most recent call last)",
      "\u001b[0;32m<ipython-input-111-3ecfceccc088>\u001b[0m in \u001b[0;36m<module>\u001b[0;34m\u001b[0m\n\u001b[1;32m      1\u001b[0m \u001b[0;31m# save as json files for each subject group\u001b[0m\u001b[0;34m\u001b[0m\u001b[0;34m\u001b[0m\u001b[0;34m\u001b[0m\u001b[0m\n\u001b[0;32m----> 2\u001b[0;31m \u001b[0mfile\u001b[0m \u001b[0;34m=\u001b[0m \u001b[0mopen\u001b[0m\u001b[0;34m(\u001b[0m\u001b[0;34m\"../templates/data/dates.js\"\u001b[0m\u001b[0;34m,\u001b[0m\u001b[0;34m\"w+\"\u001b[0m\u001b[0;34m)\u001b[0m\u001b[0;34m\u001b[0m\u001b[0;34m\u001b[0m\u001b[0m\n\u001b[0m\u001b[1;32m      3\u001b[0m \u001b[0;32mfor\u001b[0m \u001b[0mkey\u001b[0m \u001b[0;32min\u001b[0m \u001b[0msorted_data\u001b[0m\u001b[0;34m.\u001b[0m\u001b[0mkeys\u001b[0m\u001b[0;34m(\u001b[0m\u001b[0;34m)\u001b[0m\u001b[0;34m:\u001b[0m\u001b[0;34m\u001b[0m\u001b[0;34m\u001b[0m\u001b[0m\n\u001b[1;32m      4\u001b[0m     \u001b[0mdata\u001b[0m \u001b[0;34m=\u001b[0m \u001b[0;34m\"var \"\u001b[0m \u001b[0;34m+\u001b[0m \u001b[0mkey\u001b[0m \u001b[0;34m+\u001b[0m \u001b[0;34m\"_raw ='\"\u001b[0m \u001b[0;34m+\u001b[0m \u001b[0mjson\u001b[0m\u001b[0;34m.\u001b[0m\u001b[0mdumps\u001b[0m\u001b[0;34m(\u001b[0m\u001b[0msorted_data\u001b[0m\u001b[0;34m[\u001b[0m\u001b[0mkey\u001b[0m\u001b[0;34m]\u001b[0m\u001b[0;34m)\u001b[0m \u001b[0;34m+\u001b[0m \u001b[0;34m\"';\"\u001b[0m \u001b[0;34m+\u001b[0m \u001b[0;34m\"\\n\"\u001b[0m\u001b[0;34m\u001b[0m\u001b[0;34m\u001b[0m\u001b[0m\n\u001b[1;32m      5\u001b[0m     \u001b[0mfile\u001b[0m\u001b[0;34m.\u001b[0m\u001b[0mwrite\u001b[0m\u001b[0;34m(\u001b[0m\u001b[0mdata\u001b[0m\u001b[0;34m)\u001b[0m\u001b[0;34m\u001b[0m\u001b[0;34m\u001b[0m\u001b[0m\n",
      "\u001b[0;31mFileNotFoundError\u001b[0m: [Errno 2] No such file or directory: '../templates/data/dates.js'"
     ]
    }
   ],
   "source": [
    "# save as json files for each subject group\n",
    "file = open(\"../templates/data/dates.js\",\"w+\")\n",
    "for key in sorted_data.keys():\n",
    "    data = \"var \" + key + \"_raw ='\" + json.dumps(sorted_data[key]) + \"';\" + \"\\n\"\n",
    "    file.write(data)    \n",
    "    parsedata = \"var \" + key + \" = JSON.parse(\" + key + \"_raw);\\n\\n\"\n",
    "    file.write(parsedata)\n",
    "file.close()"
   ]
  },
  {
   "cell_type": "code",
   "execution_count": 133,
   "metadata": {},
   "outputs": [],
   "source": [
    "with open('alldata.js', 'w') as outfile:\n",
    "    for div in list(sorted_data.keys()):\n",
    "        if len(sorted_data[div].values()) is not 0:\n",
    "            outfile.write('var '+ div + '_raw =')\n",
    "            json.dump(sorted_data[div], outfile)\n",
    "            outfile.write('\\n')\n",
    "            outfile.write('var ' + div + ' = JSON.parse(JSON.stringify(' + div + '_raw))\\n\\n')\n",
    "    #outfile.write('\\n')\n",
    "    #json.dump(sorted_data['B'], outfile)"
   ]
  },
  {
   "cell_type": "code",
   "execution_count": null,
   "metadata": {},
   "outputs": [],
   "source": []
  }
 ],
 "metadata": {
  "kernelspec": {
   "display_name": "Python 3",
   "language": "python",
   "name": "python3"
  },
  "language_info": {
   "codemirror_mode": {
    "name": "ipython",
    "version": 3
   },
   "file_extension": ".py",
   "mimetype": "text/x-python",
   "name": "python",
   "nbconvert_exporter": "python",
   "pygments_lexer": "ipython3",
   "version": "3.7.4-final"
  }
 },
 "nbformat": 4,
 "nbformat_minor": 2
}